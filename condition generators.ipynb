{
 "cells": [
  {
   "cell_type": "code",
   "execution_count": 17,
   "metadata": {
    "collapsed": true
   },
   "outputs": [],
   "source": [
    "import city\n",
    "from hex_functs import *"
   ]
  },
  {
   "cell_type": "code",
   "execution_count": 18,
   "metadata": {
    "collapsed": true
   },
   "outputs": [],
   "source": [
    "EXCLUSION_RADIUS = 4"
   ]
  },
  {
   "cell_type": "code",
   "execution_count": 76,
   "metadata": {
    "collapsed": true
   },
   "outputs": [],
   "source": [
    "def generate_cluster(center, distance, size):\n",
    "    coords = [center]\n",
    "    pool = hex_range(center, distance).difference(hex_range(center, EXCLUSION_RADIUS))\n",
    "    for _ in range(size):\n",
    "        try:\n",
    "            coord = random.sample(pool, 1)[0]\n",
    "            coords.append(coord)\n",
    "            pool = pool.difference(hex_range(coord, EXCLUSION_RADIUS))\n",
    "        except ValueError:\n",
    "            break\n",
    "    return coords"
   ]
  },
  {
   "cell_type": "markdown",
   "metadata": {},
   "source": [
    "Tests, Dawg \n",
    "_________________________________________________________________________________________________________"
   ]
  },
  {
   "cell_type": "code",
   "execution_count": 183,
   "metadata": {
    "collapsed": false
   },
   "outputs": [],
   "source": [
    "def no_cities_in_exclusion_radius(coords = generate_cluster(Hex(0,0,0), 1, 100)):\n",
    "    for coord1 in coords:\n",
    "        for coord2 in coords:\n",
    "            if coord1 is not coord2 and hex_distance(coord1, coord2) < EXCLUSION_RADIUS:\n",
    "                return False\n",
    "            else:\n",
    "                return True"
   ]
  },
  {
   "cell_type": "code",
   "execution_count": 184,
   "metadata": {
    "collapsed": false
   },
   "outputs": [
    {
     "data": {
      "text/plain": [
       "True"
      ]
     },
     "execution_count": 184,
     "metadata": {},
     "output_type": "execute_result"
    }
   ],
   "source": [
    "no_cities_in_exclusion_radius()"
   ]
  },
  {
   "cell_type": "code",
   "execution_count": null,
   "metadata": {
    "collapsed": true
   },
   "outputs": [],
   "source": []
  }
 ],
 "metadata": {
  "kernelspec": {
   "display_name": "Python 3",
   "language": "python",
   "name": "python3"
  },
  "language_info": {
   "codemirror_mode": {
    "name": "ipython",
    "version": 3
   },
   "file_extension": ".py",
   "mimetype": "text/x-python",
   "name": "python",
   "nbconvert_exporter": "python",
   "pygments_lexer": "ipython3",
   "version": "3.5.1"
  }
 },
 "nbformat": 4,
 "nbformat_minor": 0
}
