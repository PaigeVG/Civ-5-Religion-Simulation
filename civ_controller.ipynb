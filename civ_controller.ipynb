{
 "cells": [
  {
   "cell_type": "code",
   "execution_count": null,
   "metadata": {
    "collapsed": false
   },
   "outputs": [],
   "source": [
    "#import city_generators as cg\n",
    "import json\n",
    "import os\n",
    "import time\n",
    "\n",
    "import city"
   ]
  },
  {
   "cell_type": "code",
   "execution_count": null,
   "metadata": {
    "collapsed": true
   },
   "outputs": [],
   "source": [
    "BASE_PATH = 'C:\\\\Users\\\\White Machine\\\\Desktop\\\\Coding Projects\\\\Civ-5-Religion-Simulation'\n",
    "DATA_PATH = 'Simulation Data'\n",
    "## If this were a larger program, I might read this in from a config file."
   ]
  },
  {
   "cell_type": "code",
   "execution_count": null,
   "metadata": {
    "collapsed": false
   },
   "outputs": [],
   "source": [
    "#cities = cg.generator('large_clusters').generate()"
   ]
  },
  {
   "cell_type": "code",
   "execution_count": null,
   "metadata": {
    "collapsed": true
   },
   "outputs": [],
   "source": [
    "def sim_loop(generator, turns):\n",
    "    for turn in range(turns):\n",
    "        cities = generator.generate()\n",
    "        write_to_disk(cities, turn)\n",
    "        update_cities(cities)\n",
    "    return None"
   ]
  },
  {
   "cell_type": "code",
   "execution_count": null,
   "metadata": {
    "collapsed": true
   },
   "outputs": [],
   "source": [
    "def update_cities(cities):\n",
    "    for city in cities:\n",
    "        city.send_pressures()\n",
    "    for city in cities:\n",
    "        city.update()\n",
    "    return None"
   ]
  },
  {
   "cell_type": "code",
   "execution_count": null,
   "metadata": {
    "collapsed": false
   },
   "outputs": [],
   "source": [
    "def write_to_disk(cities, turn):\n",
    "    if turn == 0:\n",
    "        data_folder = create_data_folder()\n",
    "        os.chdir(os.path.join(BASE_PATH, DATA_PATH, data_folder))\n",
    "    with open(str(turn), 'w') as f:\n",
    "        for city in cities:\n",
    "            f.write(city_to_json(city) +'\\n')"
   ]
  },
  {
   "cell_type": "code",
   "execution_count": null,
   "metadata": {
    "collapsed": true
   },
   "outputs": [],
   "source": [
    "def create_data_folder():\n",
    "    dir_path = time.ctime().replace(':', ' ')\n",
    "    os.mkdir(os.path.join(BASE_PATH, DATA_PATH, dir_path))\n",
    "    return dir_path"
   ]
  },
  {
   "cell_type": "code",
   "execution_count": null,
   "metadata": {
    "collapsed": true
   },
   "outputs": [],
   "source": [
    "def city_to_json(city):\n",
    "    city_attrs = city.__dict__\n",
    "    return json.dumps(city_attrs, default = set_default)"
   ]
  },
  {
   "cell_type": "code",
   "execution_count": null,
   "metadata": {
    "collapsed": true
   },
   "outputs": [],
   "source": [
    "def set_default(obj): # From Martijn Pieters on SO\n",
    "    if isinstance(obj, set):\n",
    "        return list(obj)\n",
    "    raise TypeError"
   ]
  }
 ],
 "metadata": {
  "kernelspec": {
   "display_name": "Python 3",
   "language": "python",
   "name": "python3"
  },
  "language_info": {
   "codemirror_mode": {
    "name": "ipython",
    "version": 3
   },
   "file_extension": ".py",
   "mimetype": "text/x-python",
   "name": "python",
   "nbconvert_exporter": "python",
   "pygments_lexer": "ipython3",
   "version": "3.5.1"
  }
 },
 "nbformat": 4,
 "nbformat_minor": 0
}
